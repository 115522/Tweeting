{
 "cells": [
  {
   "cell_type": "markdown",
   "metadata": {},
   "source": [
    "<h1 style=\"color:blue;\">  <B> Tweets Clustering</B>  $~~~~~~~~~~~~~~~~~~~~~~~~~~~~~~~~~~~~~~~~~~~~~~~~~~~~~~~~~~~~~~~~~~~~~~$<B> BY INES REBHI</B>\n",
    " </h1>"
   ]
  },
  {
   "cell_type": "markdown",
   "metadata": {},
   "source": [
    "\n",
    "\n",
    "<img src=\"images/giphy.gif\" width=\"400\" height=\"400\" align=\"center\"/>'\n",
    "\n"
   ]
  },
  {
   "cell_type": "markdown",
   "metadata": {},
   "source": [
    "<h3 style=\"color:blue;\"> <B>Introduction</B>\n",
    " </B> </h3>"
   ]
  },
  {
   "cell_type": "markdown",
   "metadata": {},
   "source": [
    "<B>Data redundancy is an important problem of Twitter. Twitter users are likely to generate similar tweets (e.g., using the Retweet function) about some popular topics/events.\n",
    "a result of a huge number of tweets which let  tweetos not interested to loss time about reading for the same topic many tweets     \n",
    "  So by clustering similar tweets together, we can generate a more concise and organized representation of the raw tweets, which will be very useful for busy Tweetos to read only one tweet per class  </B> </br>\n",
    "\n",
    "<B> Aim of our Project is to  </B>\n",
    "<li> <B>1/ gathering real time tweets  using a twitter API </B></li>\n",
    "<li><B> 2/ Preprocessing tweets </B> </li>\n",
    "<li><B> 3/Apply a NLP to text tweets</B> </li>\n",
    "<li><B> 4/ Modeling By using K-means as a ML algorithm of clustering </B></li>"
   ]
  },
  {
   "cell_type": "markdown",
   "metadata": {},
   "source": [
    "<h3 style=\"color:blue;\"> <B>Keywords </B></h3>"
   ]
  },
  {
   "cell_type": "markdown",
   "metadata": {},
   "source": [
    "<B>Text mining  $~~~/~~~~$clustering$~~~/~~~~$NLP $~~~/~~~~$tweepy$~~~/~~~~$ NLTK$~~~/~~~~$ twitter API </B>"
   ]
  },
  {
   "cell_type": "markdown",
   "metadata": {},
   "source": [
    "<h3 style=\"color:blue;\"> <B>STEP1: Getting API keys from Twitter</B>\n",
    " </B> </h3>"
   ]
  },
  {
   "cell_type": "markdown",
   "metadata": {},
   "source": [
    "<B>An API is standing for Application Programming Interfaces (APIs) and they allow you to access resources only available on the server</B></br>\n",
    "<B>Now The Twitter API lets you read and write Twitter data. Thus, you can use it to compose tweets, read profiles, and access your followers’ data and a high volume of tweets on particular subjects in specific locations.</B></br>\n",
    "<B>So how can I get an API from twitter developer ??? </B>"
   ]
  },
  {
   "cell_type": "markdown",
   "metadata": {},
   "source": [
    "\n",
    "<B style=\"color:orangered;\">1/ Create  twitter account </B>\n"
   ]
  },
  {
   "cell_type": "markdown",
   "metadata": {},
   "source": [
    "<img src=\"images/accounttwitter.PNG\">"
   ]
  },
  {
   "cell_type": "markdown",
   "metadata": {},
   "source": [
    "<B style=\"color:orangered;\">2/Try this link to see how apply for a twitter api </B> </br></br>\n",
    "\n",
    "<B>https://www.youtube.com/watch?v=vlvtqp44xoQ </B>"
   ]
  },
  {
   "cell_type": "markdown",
   "metadata": {},
   "source": [
    "<B style=\"color:orangered;\">3/ Create a project in twitter developer</B>"
   ]
  },
  {
   "cell_type": "markdown",
   "metadata": {},
   "source": [
    "<img src=\"images/Capture.PNG\">"
   ]
  },
  {
   "cell_type": "markdown",
   "metadata": {},
   "source": [
    "</br>"
   ]
  },
  {
   "cell_type": "markdown",
   "metadata": {},
   "source": [
    "<B style=\"color:orangered;\">3/Get API  Keys </B>"
   ]
  },
  {
   "cell_type": "markdown",
   "metadata": {},
   "source": [
    "<img src=\"images/api.PNG\">"
   ]
  },
  {
   "cell_type": "markdown",
   "metadata": {},
   "source": [
    "<B style=\"color:orangered;\"> 3/ Install Tweepy </B>"
   ]
  },
  {
   "cell_type": "markdown",
   "metadata": {},
   "source": [
    "<B>Tweepy is an open source Python package that gives you a very convenient way to access the Twitter API with Python. Tweepy includes a set of classes and methods that represent Twitter’s models and API endpoints, and it transparently handles various implementation details, such as:</B>\n",
    "\n",
    "<B>* Rate limits</B>\n",
    "    \n",
    "<B>* Streams</B>\n",
    "\n",
    "<B> * Data encoding and decoding</B>\n",
    "    \n",
    "<B> * HTTP requests</B>\n",
    "    \n",
    "<B>* Results pagination</B>\n",
    "    \n",
    "<B>* OAuth authentication</B>\n",
    "    \n"
   ]
  },
  {
   "cell_type": "markdown",
   "metadata": {},
   "source": [
    "<B style=\"color:orangered;\">4/ import Libraries  and credentials in our project </B> "
   ]
  },
  {
   "cell_type": "code",
   "execution_count": 1,
   "metadata": {},
   "outputs": [],
   "source": [
    "import tweepy           # To consume Twitter's API\n",
    "import pandas as pd     # To handle data\n",
    "import numpy as np      # For number computing\n",
    "\n",
    "# For plotting and visualization:\n",
    "from IPython.display import display\n",
    "import matplotlib.pyplot as plt\n",
    "import seaborn as sns\n",
    "%matplotlib inline\n",
    "\n",
    "\n",
    "# Twitter App access keys for @user \n",
    "#credential part\n",
    "\n",
    "# Consume:\n",
    "CONSUMER_KEY    = 'pUruES5UQBACkbkcOolgfmjop'\n",
    "CONSUMER_SECRET = 'H0zY8T19bQIAMGKxTNEVZV4T52QNMfruGu8FLbECmizbw7qr7l'\n",
    "\n",
    "# Access:\n",
    "ACCESS_TOKEN  = '1324988873538228224-Sbn1EJXcxKeItAV33UzO7wX7TsFYjA'\n",
    "ACCESS_SECRET = 'MMyMliA8oNgEYspY3mKQ4Wi73F4YsD9CiELkyChQpxebo'\n",
    "auth = tweepy.OAuthHandler(CONSUMER_KEY, CONSUMER_SECRET)\n",
    "auth.set_access_token(ACCESS_TOKEN,ACCESS_SECRET)\n",
    "api=  tweepy.API(auth)"
   ]
  },
  {
   "cell_type": "markdown",
   "metadata": {},
   "source": [
    "<h3><B style=\"color:blue;\">STEP2: Gathring DATA  </B> </h3>"
   ]
  },
  {
   "cell_type": "markdown",
   "metadata": {},
   "source": [
    "<B style=\"color:orangered;\">1/ Live streaming tweets\n",
    "  </B> "
   ]
  },
  {
   "cell_type": "markdown",
   "metadata": {},
   "source": [
    "<B>In this Part we need to stream 10 000 tweets in real-time  from\n",
    "Twitter to solve the task of tweets clustering </B> "
   ]
  },
  {
   "cell_type": "markdown",
   "metadata": {},
   "source": [
    "\n",
    "<div class=\"alert alert-block alert-danger\">\n",
    "<b>Danger:</b> <B>Please don't run this cell because it can make you a lot of time to do the streaming ! </B> \n",
    "</div>"
   ]
  },
  {
   "cell_type": "code",
   "execution_count": null,
   "metadata": {},
   "outputs": [],
   "source": [
    "\n",
    "from tweepy import Stream\n",
    "from tweepy import OAuthHandler\n",
    "from tweepy.streaming import StreamListener\n",
    "import time\n",
    " \n",
    "class listener(StreamListener):\n",
    "    def on_data(self,data):\n",
    "       \n",
    "            saveFile = open('live_tweets.json','a')\n",
    "            saveFile.write(data)\n",
    "            saveFile.write('\\n')\n",
    "            saveFile.close()\n",
    "            return True\n",
    "       \n",
    "            time.sleep(5)\n",
    "    def on_status(self, status):\n",
    "        try:\n",
    "            if hasattr(status, 'retweeted_status') and hasattr(status.retweeted_status, 'extended_tweet'):\n",
    "                print('retweeted: ' + status.retweeted_status.extended_tweet['full_text'])\n",
    "            if hasattr(status, 'extended_tweet'):\n",
    "                print('extended_tweet: ' + status.extended_tweet['full_text'])\n",
    "            else:\n",
    "                print('text: ' + status.text)\n",
    "        except AttributeError:\n",
    "            print('attribute error: ' + status.text)\n",
    "auth = tweepy.OAuthHandler(CONSUMER_KEY, CONSUMER_SECRET)\n",
    "auth.set_access_token(ACCESS_TOKEN,ACCESS_SECRET)\n",
    "twitterStream = Stream(auth,listener(),tweet_mode='extended')\n",
    "\n",
    "twitterStream.filter(languages=[\"en\"],track=[\"politic\" , \"health\" , \"sport\",\"business\",\"entertaiment\"])"
   ]
  },
  {
   "cell_type": "markdown",
   "metadata": {},
   "source": [
    "<h3><B style=\"color:blue;\">STEP3:DATA PREPARATION </B> </h3>\n"
   ]
  },
  {
   "cell_type": "markdown",
   "metadata": {},
   "source": [
    "><h3><B style=\"color:orangered;\">Data Processing and Wrangling  </B> </h3>\n"
   ]
  },
  {
   "cell_type": "markdown",
   "metadata": {},
   "source": [
    ">><B style=\"color:green;\"> 1/ From json to csv </B> \n"
   ]
  },
  {
   "cell_type": "markdown",
   "metadata": {},
   "source": [
    "<B>the csv form  serve to make our dataset(tweets) more visualised than json form. So we need to change our dataset from json to csv </B>"
   ]
  },
  {
   "cell_type": "markdown",
   "metadata": {},
   "source": [
    "\n",
    "<div class=\"info info-block alert-info\">\n",
    "<b>INFO:</b> <B>It's unused to run these two cells </B> \n",
    "</div>"
   ]
  },
  {
   "cell_type": "code",
   "execution_count": 62,
   "metadata": {},
   "outputs": [],
   "source": [
    "import pandas as pd\n",
    "df = pd.read_json ('tweetsstreamed.json',lines = True)\n",
    "export_csv = df.to_csv ('bdtweets.csv', index = None, header=True)"
   ]
  },
  {
   "cell_type": "code",
   "execution_count": 56,
   "metadata": {},
   "outputs": [],
   "source": [
    "df = pd.read_json ('live_tweets1.json',lines = True)\n",
    "export_csv = df.to_csv ('bdtweets2.csv', index = None, header=True)"
   ]
  },
  {
   "cell_type": "markdown",
   "metadata": {},
   "source": [
    ">><B style=\"color:green;\"> 2/Cleaning text </B> \n"
   ]
  },
  {
   "cell_type": "markdown",
   "metadata": {},
   "source": [
    ">><B>In this step we will \n",
    "<B><li>transform tweet text into lowercase</li></B>\n",
    "<B><li>remove twitter handles</li></B>\n",
    "<B><li>remove hyperlinks</li></B>\n",
    "    <B><li>remove non-alphanumeric characters such as punctuation marks </li></B>\n",
    "<B><li>remove whitespace</li></B>"
   ]
  },
  {
   "cell_type": "markdown",
   "metadata": {},
   "source": [
    "<B>a/keep only the text column and ignore the rest of features</B>"
   ]
  },
  {
   "cell_type": "code",
   "execution_count": 2,
   "metadata": {},
   "outputs": [
    {
     "name": "stdout",
     "output_type": "stream",
     "text": [
      "shape of tweets dataframe with duplicated tweets (20422, 1)\n"
     ]
    },
    {
     "data": {
      "text/html": [
       "<div>\n",
       "<style scoped>\n",
       "    .dataframe tbody tr th:only-of-type {\n",
       "        vertical-align: middle;\n",
       "    }\n",
       "\n",
       "    .dataframe tbody tr th {\n",
       "        vertical-align: top;\n",
       "    }\n",
       "\n",
       "    .dataframe thead th {\n",
       "        text-align: right;\n",
       "    }\n",
       "</style>\n",
       "<table border=\"1\" class=\"dataframe\">\n",
       "  <thead>\n",
       "    <tr style=\"text-align: right;\">\n",
       "      <th></th>\n",
       "      <th>text</th>\n",
       "    </tr>\n",
       "  </thead>\n",
       "  <tbody>\n",
       "    <tr>\n",
       "      <th>0</th>\n",
       "      <td>@WTAJnews Great!  Another going out of busines...</td>\n",
       "    </tr>\n",
       "    <tr>\n",
       "      <th>1</th>\n",
       "      <td>@DailyCaller @LisaMarieBoothe Health and educa...</td>\n",
       "    </tr>\n",
       "    <tr>\n",
       "      <th>2</th>\n",
       "      <td>RT @MatthewJshow: @realDonaldTrump China is we...</td>\n",
       "    </tr>\n",
       "    <tr>\n",
       "      <th>3</th>\n",
       "      <td>Video: Demba Ba sees red as he stands up for h...</td>\n",
       "    </tr>\n",
       "    <tr>\n",
       "      <th>4</th>\n",
       "      <td>RT @texman71: Fuck your restrictions!!</td>\n",
       "    </tr>\n",
       "  </tbody>\n",
       "</table>\n",
       "</div>"
      ],
      "text/plain": [
       "                                                text\n",
       "0  @WTAJnews Great!  Another going out of busines...\n",
       "1  @DailyCaller @LisaMarieBoothe Health and educa...\n",
       "2  RT @MatthewJshow: @realDonaldTrump China is we...\n",
       "3  Video: Demba Ba sees red as he stands up for h...\n",
       "4             RT @texman71: Fuck your restrictions!!"
      ]
     },
     "execution_count": 2,
     "metadata": {},
     "output_type": "execute_result"
    }
   ],
   "source": [
    "import pandas as pd \n",
    "tweets = pd.read_csv(\"bdtweets2.csv\", usecols = ['text'])\n",
    "print(\"shape of tweets dataframe with duplicated tweets\",tweets.shape)\n",
    "tweets.head()\n"
   ]
  },
  {
   "cell_type": "code",
   "execution_count": 3,
   "metadata": {},
   "outputs": [
    {
     "data": {
      "text/html": [
       "<div>\n",
       "<style scoped>\n",
       "    .dataframe tbody tr th:only-of-type {\n",
       "        vertical-align: middle;\n",
       "    }\n",
       "\n",
       "    .dataframe tbody tr th {\n",
       "        vertical-align: top;\n",
       "    }\n",
       "\n",
       "    .dataframe thead th {\n",
       "        text-align: right;\n",
       "    }\n",
       "</style>\n",
       "<table border=\"1\" class=\"dataframe\">\n",
       "  <thead>\n",
       "    <tr style=\"text-align: right;\">\n",
       "      <th></th>\n",
       "      <th>text</th>\n",
       "    </tr>\n",
       "  </thead>\n",
       "  <tbody>\n",
       "    <tr>\n",
       "      <th>20417</th>\n",
       "      <td>TAKE ACTION AND OPPOSE RUSHED APPROVALS WITHOU...</td>\n",
       "    </tr>\n",
       "    <tr>\n",
       "      <th>20418</th>\n",
       "      <td>Revive your aging skin and reduce the appearan...</td>\n",
       "    </tr>\n",
       "    <tr>\n",
       "      <th>20419</th>\n",
       "      <td>Busy 🐝!!!! \\n\\nWhen you own a business this is...</td>\n",
       "    </tr>\n",
       "    <tr>\n",
       "      <th>20420</th>\n",
       "      <td>RT @JeaneF1MSP: Dear @BBCScotNine, unpaid care...</td>\n",
       "    </tr>\n",
       "    <tr>\n",
       "      <th>20421</th>\n",
       "      <td>RT @hycfreedom: @HBO @HackedOffHugh HUNTER BID...</td>\n",
       "    </tr>\n",
       "  </tbody>\n",
       "</table>\n",
       "</div>"
      ],
      "text/plain": [
       "                                                    text\n",
       "20417  TAKE ACTION AND OPPOSE RUSHED APPROVALS WITHOU...\n",
       "20418  Revive your aging skin and reduce the appearan...\n",
       "20419  Busy 🐝!!!! \\n\\nWhen you own a business this is...\n",
       "20420  RT @JeaneF1MSP: Dear @BBCScotNine, unpaid care...\n",
       "20421  RT @hycfreedom: @HBO @HackedOffHugh HUNTER BID..."
      ]
     },
     "execution_count": 3,
     "metadata": {},
     "output_type": "execute_result"
    }
   ],
   "source": [
    "tweets.tail()\n"
   ]
  },
  {
   "cell_type": "code",
   "execution_count": 4,
   "metadata": {},
   "outputs": [
    {
     "data": {
      "text/plain": [
       "RT @SenTomCotton: This opinion reads like the delusional ramblings of a Resistance lawyer afflicted with Trump Derangement Syndrome. Judge…         186\n",
       "RT @btsportfootball: Nothing but respect ❤️\\n\\nMessi 🤝 Ronaldo\\n\\n📺 BT Sport ESPN HD https://t.co/Qo1KUQKZ7Q                                        171\n",
       "RT @SteveGuest: Joe Biden defeated AGAIN by the Teleprompter.\\n\\n\"For Secretary of Health and Education Services, I nominate Xavier Bacheria.…      153\n",
       "RT @MelissaReddy_: Demba Ba 👏🏽\\nIstanbul Basaksehir 👏🏽\\nPSG 👏🏽\\n\\nShowing us 'zero tolerance' is more than just empty words, can be easily acti…    137\n",
       "RT @SchmittNYC: Biden didn’t nominate Becerra - his handlers did                                                                                    120\n",
       "                                                                                                                                                   ... \n",
       "RT @jaskaran78: Definitely worth a read https://t.co/WvmP3nfDTb                                                                                       1\n",
       "@business I knew Michigan stop the OS winning streak this year.                                                                                       1\n",
       "Yass, mental health is so important                                                                                                                   1\n",
       "@andrewberreyesa I think the biggest benefit is I feel it’ll make us more competitive in and push the coaches to gr… https://t.co/ZhvWnCV256          1\n",
       "@ex0ticflwr It’s a cost benefit analysis. Malls provide more profit to the economy than a small family owned busine… https://t.co/X6bRCYzEOK          1\n",
       "Name: text, Length: 13937, dtype: int64"
      ]
     },
     "execution_count": 4,
     "metadata": {},
     "output_type": "execute_result"
    }
   ],
   "source": [
    "tweets['text'].value_counts()\n"
   ]
  },
  {
   "cell_type": "markdown",
   "metadata": {},
   "source": [
    "><B>we are looking in our dataset and  note that we have many duplications that we must removing</B>"
   ]
  },
  {
   "cell_type": "markdown",
   "metadata": {},
   "source": [
    "<B>b/Remove duplicated tweets </B>"
   ]
  },
  {
   "cell_type": "code",
   "execution_count": 5,
   "metadata": {},
   "outputs": [
    {
     "name": "stdout",
     "output_type": "stream",
     "text": [
      "shape of tweets dataframe After removing duplicated tweets (13937, 1)\n"
     ]
    }
   ],
   "source": [
    "\n",
    "tweets.drop_duplicates(subset='text',inplace=True)\n",
    "# tweets.drop_duplicates(subset=['text'], keep='first', inplace=True)  #tou can also run this line of code to drop duplicate tweets\n",
    "\n",
    "print(\"shape of tweets dataframe After removing duplicated tweets\",tweets.shape)\n"
   ]
  },
  {
   "cell_type": "markdown",
   "metadata": {},
   "source": [
    "><B> we can showing top of hashtag in our dataset </B>"
   ]
  },
  {
   "cell_type": "code",
   "execution_count": 6,
   "metadata": {},
   "outputs": [],
   "source": [
    "import regex as re\n",
    "import numpy as np\n",
    "from collections import Counter\n",
    "\n",
    "tweets['hashtags'] = tweets['text'].apply(lambda twt : re.findall(r\"#(\\w+)\", twt))\n",
    "d = Counter(tweets.hashtags.sum())\n",
    "# print(d)"
   ]
  },
  {
   "cell_type": "code",
   "execution_count": 7,
   "metadata": {},
   "outputs": [
    {
     "data": {
      "text/plain": [
       "3602"
      ]
     },
     "execution_count": 7,
     "metadata": {},
     "output_type": "execute_result"
    }
   ],
   "source": [
    "tweets_hashtags = pd.DataFrame([d]).T\n",
    "tweets_hashtags.columns = ['freq']\n",
    "tweets_hashtags.freq.sum()"
   ]
  },
  {
   "cell_type": "code",
   "execution_count": 8,
   "metadata": {},
   "outputs": [
    {
     "name": "stdout",
     "output_type": "stream",
     "text": [
      "top hashtag in our dataset\n"
     ]
    },
    {
     "data": {
      "text/html": [
       "<div>\n",
       "<style scoped>\n",
       "    .dataframe tbody tr th:only-of-type {\n",
       "        vertical-align: middle;\n",
       "    }\n",
       "\n",
       "    .dataframe tbody tr th {\n",
       "        vertical-align: top;\n",
       "    }\n",
       "\n",
       "    .dataframe thead th {\n",
       "        text-align: right;\n",
       "    }\n",
       "</style>\n",
       "<table border=\"1\" class=\"dataframe\">\n",
       "  <thead>\n",
       "    <tr style=\"text-align: right;\">\n",
       "      <th></th>\n",
       "      <th>freq</th>\n",
       "    </tr>\n",
       "  </thead>\n",
       "  <tbody>\n",
       "    <tr>\n",
       "      <th>COVID19</th>\n",
       "      <td>103</td>\n",
       "    </tr>\n",
       "    <tr>\n",
       "      <th>business</th>\n",
       "      <td>81</td>\n",
       "    </tr>\n",
       "    <tr>\n",
       "      <th>health</th>\n",
       "      <td>42</td>\n",
       "    </tr>\n",
       "    <tr>\n",
       "      <th>assignment</th>\n",
       "      <td>38</td>\n",
       "    </tr>\n",
       "    <tr>\n",
       "      <th>homework</th>\n",
       "      <td>33</td>\n",
       "    </tr>\n",
       "    <tr>\n",
       "      <th>Nursing</th>\n",
       "      <td>31</td>\n",
       "    </tr>\n",
       "    <tr>\n",
       "      <th>research</th>\n",
       "      <td>31</td>\n",
       "    </tr>\n",
       "    <tr>\n",
       "      <th>Literature</th>\n",
       "      <td>29</td>\n",
       "    </tr>\n",
       "    <tr>\n",
       "      <th>Essay</th>\n",
       "      <td>28</td>\n",
       "    </tr>\n",
       "    <tr>\n",
       "      <th>chemistry</th>\n",
       "      <td>26</td>\n",
       "    </tr>\n",
       "  </tbody>\n",
       "</table>\n",
       "</div>"
      ],
      "text/plain": [
       "            freq\n",
       "COVID19      103\n",
       "business      81\n",
       "health        42\n",
       "assignment    38\n",
       "homework      33\n",
       "Nursing       31\n",
       "research      31\n",
       "Literature    29\n",
       "Essay         28\n",
       "chemistry     26"
      ]
     },
     "execution_count": 8,
     "metadata": {},
     "output_type": "execute_result"
    }
   ],
   "source": [
    "tweets_hashtags.sort_values(by=['freq'], ascending=False, inplace=True)\n",
    "print(\"top hashtag in our dataset\")\n",
    "tweets_hashtags.head(10)\n"
   ]
  },
  {
   "cell_type": "code",
   "execution_count": 9,
   "metadata": {},
   "outputs": [
    {
     "name": "stdout",
     "output_type": "stream",
     "text": [
      "Among 20000 Tweets, 3602 Hashtags were used.\n"
     ]
    },
    {
     "data": {
      "text/plain": [
       "Text(0.5, 1.0, 'Top 10 Hashtags of dataset')"
      ]
     },
     "execution_count": 9,
     "metadata": {},
     "output_type": "execute_result"
    },
    {
     "data": {
      "image/png": "[encoded data removed]",
      "text/plain": [
       "<Figure size 864x648 with 1 Axes>"
      ]
     },
     "metadata": {
      "needs_background": "light"
     },
     "output_type": "display_data"
    }
   ],
   "source": [
    "### Visualization of Top 10 Hashtags\n",
    "labels = tweets_hashtags.head(10).index.values.tolist()\n",
    "freq = tweets_hashtags['freq'].head(10).values.tolist()\n",
    "index = np.arange(len(freq))\n",
    "\n",
    "print(\"Among 20000 Tweets, 3602 Hashtags were used.\")\n",
    "plt.figure(figsize=(12,9))\n",
    "plt.bar(index, freq, alpha=0.8, color= 'orangered')\n",
    "plt.xlabel('Hashtags', fontsize=13)\n",
    "plt.ylabel('Frequency', fontsize=13)\n",
    "plt.xticks(index, labels, fontsize=11, rotation=90, fontweight=\"bold\") \n",
    "plt.title('Top 10 Hashtags of dataset', fontsize=12, fontweight=\"bold\",color='blue')"
   ]
  },
  {
   "cell_type": "code",
   "execution_count": 10,
   "metadata": {},
   "outputs": [],
   "source": [
    "tweets = tweets.drop(['hashtags'], axis=1)\n"
   ]
  },
  {
   "cell_type": "markdown",
   "metadata": {},
   "source": [
    " <B> c/extract the username through the tweets (preceded by @ or by RT @), emojis,punctuation</B></p> "
   ]
  },
  {
   "cell_type": "code",
   "execution_count": 11,
   "metadata": {},
   "outputs": [
    {
     "data": {
      "text/html": [
       "<div>\n",
       "<style scoped>\n",
       "    .dataframe tbody tr th:only-of-type {\n",
       "        vertical-align: middle;\n",
       "    }\n",
       "\n",
       "    .dataframe tbody tr th {\n",
       "        vertical-align: top;\n",
       "    }\n",
       "\n",
       "    .dataframe thead th {\n",
       "        text-align: right;\n",
       "    }\n",
       "</style>\n",
       "<table border=\"1\" class=\"dataframe\">\n",
       "  <thead>\n",
       "    <tr style=\"text-align: right;\">\n",
       "      <th></th>\n",
       "      <th>text</th>\n",
       "    </tr>\n",
       "  </thead>\n",
       "  <tbody>\n",
       "    <tr>\n",
       "      <th>0</th>\n",
       "      <td>great  another going out of business sale</td>\n",
       "    </tr>\n",
       "    <tr>\n",
       "      <th>1</th>\n",
       "      <td>health and education services is what he wan...</td>\n",
       "    </tr>\n",
       "    <tr>\n",
       "      <th>2</th>\n",
       "      <td>china is well entrenched throughout business...</td>\n",
       "    </tr>\n",
       "    <tr>\n",
       "      <th>3</th>\n",
       "      <td>video demba ba sees red as he stands up for hi...</td>\n",
       "    </tr>\n",
       "    <tr>\n",
       "      <th>4</th>\n",
       "      <td>fuck your restrictions</td>\n",
       "    </tr>\n",
       "    <tr>\n",
       "      <th>...</th>\n",
       "      <td>...</td>\n",
       "    </tr>\n",
       "    <tr>\n",
       "      <th>20416</th>\n",
       "      <td>we haveright to education and good health we w...</td>\n",
       "    </tr>\n",
       "    <tr>\n",
       "      <th>20417</th>\n",
       "      <td>take action and oppose rushed approvals withou...</td>\n",
       "    </tr>\n",
       "    <tr>\n",
       "      <th>20418</th>\n",
       "      <td>revive your aging skin and reduce the appearan...</td>\n",
       "    </tr>\n",
       "    <tr>\n",
       "      <th>20419</th>\n",
       "      <td>busy  when you ownbusiness this is really the ...</td>\n",
       "    </tr>\n",
       "    <tr>\n",
       "      <th>20421</th>\n",
       "      <td>hunter biden lied tony bobulinski  the form...</td>\n",
       "    </tr>\n",
       "  </tbody>\n",
       "</table>\n",
       "<p>13937 rows × 1 columns</p>\n",
       "</div>"
      ],
      "text/plain": [
       "                                                    text\n",
       "0              great  another going out of business sale\n",
       "1        health and education services is what he wan...\n",
       "2        china is well entrenched throughout business...\n",
       "3      video demba ba sees red as he stands up for hi...\n",
       "4                                 fuck your restrictions\n",
       "...                                                  ...\n",
       "20416  we haveright to education and good health we w...\n",
       "20417  take action and oppose rushed approvals withou...\n",
       "20418  revive your aging skin and reduce the appearan...\n",
       "20419  busy  when you ownbusiness this is really the ...\n",
       "20421     hunter biden lied tony bobulinski  the form...\n",
       "\n",
       "[13937 rows x 1 columns]"
      ]
     },
     "execution_count": 11,
     "metadata": {},
     "output_type": "execute_result"
    }
   ],
   "source": [
    "import regex as re\n",
    "\n",
    "\n",
    "#clean text\n",
    "\n",
    "def CleanText(TextToClean):\n",
    "    TextToClean.lower()  #Normalization\n",
    "    TextToClean = re.sub(r'@[A-Za-z0-9]+', '',str(TextToClean)) #to extract @\n",
    "    TextToClean= re.sub(r':','',str(TextToClean)) #to remove :\n",
    "    TextToClean= re.sub(r'\\n','',str(TextToClean)) #to remove  \\n\n",
    "    TextToClean= re.sub(r'#','',str(TextToClean)) #to remove #\n",
    "    TextToClean= re.sub(r'!','',str(TextToClean)) #to remove #\n",
    "    TextToClean = re.sub(r'RT[\\s]','',str(TextToClean)) #to remove #\n",
    "    TextToClean = re.sub(r'https','',str(TextToClean)) #to remove hyper links\n",
    "    TextToClean = re.sub(r'_','',str(TextToClean)) #to remove hyper links\n",
    "    TextToClean = re.sub(r'~~~@…','',str(TextToClean)) #to remove blanc space\n",
    "    TextToClean =re.sub(r\"\\&\\S*\\s\", \"\", str(TextToClean))\n",
    "    TextToClean = re.sub(r\"\\&\", \"\", str(TextToClean))\n",
    "    TextToClean= re.sub(r\"\\+\", \"\", str(TextToClean))\n",
    "    TextToClean = re.sub(r\"\\#\", \"\", str(TextToClean))\n",
    "    TextToClean = re.sub(r\"\\$\", \"\", str(TextToClean))\n",
    "    TextToClean = re.sub(r\"\\£\", \"\", str(TextToClean))\n",
    "    TextToClean = re.sub(r\"\\%\", \"\", str(TextToClean))\n",
    "    TextToClean= re.sub(r\"\\:\", \"\", str(TextToClean))\n",
    "    TextToClean = re.sub(r\"\\@\", \"\", str(TextToClean))\n",
    "    TextToClean = re.sub(r\"\\-\", \"\", str(TextToClean))\n",
    "    TextToClean = re.sub(r\",\", \"\", str(TextToClean))\n",
    "    TextToClean = re.sub(r\" \\' \", \"\", str(TextToClean))\n",
    "    TextToClean = re.sub(r\"\\n \", \"\", str(TextToClean))\n",
    "    TextToClean = re.sub(r'\\s+[a-zA-Z]\\s+', \"\", str(TextToClean))\n",
    "    TextToClean = re.sub(r\" \\? \", \"\", str(TextToClean))\n",
    "    TextToClean = re.sub(r'[^\\w\\s]','',str(TextToClean))\n",
    "    \n",
    "#     TextToClean = re.sub(r'\\s+', \"\", str(TextToClean))#Removing Extra Whitespaces\n",
    "#     TextToClean = re.sub(r'\\s+[a-zA-Z]\\s+', \"\", str(TextToClean))#Removing single carecter\n",
    "\n",
    "\n",
    "    return TextToClean\n",
    "\n",
    "\n",
    "\n",
    "\n",
    "def remove_emoji(Text_with_emoji):\n",
    "    emoji_pattern = re.compile(\"[\"\n",
    "                               u\"\\U0001F600-\\U0001F64F\"  # emoticons\n",
    "                               u\"\\U0001F300-\\U0001F5FF\"  # symbols & pictographs\n",
    "                               u\"\\U0001F680-\\U0001F6FF\"  # transport & map symbols\n",
    "                               u\"\\U0001F1E0-\\U0001F1FF\"  # flags (appel phone)\n",
    "                               u\"\\U00002500-\\U00002BEF\"  # chinese char\n",
    "                               u\"\\U00002702-\\U000027B0\"\n",
    "                               u\"\\U00002702-\\U000027B0\"\n",
    "                               u\"\\U000024C2-\\U0001F251\"\n",
    "                               u\"\\U0001f926-\\U0001f937\"\n",
    "                               u\"\\U00010000-\\U0010ffff\"\n",
    "                               u\"\\u2640-\\u2642\"\n",
    "                               u\"\\u2600-\\u2B55\"\n",
    "                               u\"\\u200d\"\n",
    "                               u\"\\u23cf\"\n",
    "                               u\"\\u23e9\"\n",
    "                               u\"\\u231a\"\n",
    "                               u\"\\ufe0f\"  # dingbats\n",
    "                               u\"\\u3030\"\n",
    "                               \"]+\", flags=re.UNICODE)\n",
    "    return emoji_pattern.sub(r'', Text_with_emoji)\n",
    "\n",
    "\n",
    "\n",
    "\n",
    "tweets['text'] = tweets['text'].apply(CleanText)\n",
    "tweets['text'] = tweets['text'].apply(remove_emoji)\n",
    "# tweets['extended_tweet'] = tweets['text'].apply(CleanText)\n",
    "# tweets['extended_tweet'] = tweets['text'].apply(remove_emoji)\n",
    "#lower text\n",
    "tweets[\"text\"] = tweets[\"text\"].str.lower()\n",
    "# tweets[\"extended_tweet\"] = tweets[\"text\"].str.lower()\n",
    "\n",
    "\n",
    "\n",
    "\n",
    "tweets"
   ]
  },
  {
   "cell_type": "code",
   "execution_count": 12,
   "metadata": {},
   "outputs": [
    {
     "data": {
      "text/plain": [
       "' new scathing analysis of s shady business by the  thereslot of questions around this guy the'"
      ]
     },
     "execution_count": 12,
     "metadata": {},
     "output_type": "execute_result"
    }
   ],
   "source": [
    "tweets['text'][5]"
   ]
  },
  {
   "cell_type": "markdown",
   "metadata": {},
   "source": [
    "<div class=\"alert alert-block alert-success\">\n",
    "<b></b> <B> Now ! we have only cleaned and lower text </B>  \n",
    "\n",
    "</div>\n"
   ]
  },
  {
   "cell_type": "markdown",
   "metadata": {},
   "source": [
    "<h3 style=\"color:blue;\"> <B>  Natural Language Processing </B>  </h3>"
   ]
  },
  {
   "cell_type": "markdown",
   "metadata": {},
   "source": [
    "<B>Natural language processing includes many different techniques for interpreting human language, ranging from statistical and machine learning methods to rules-based and algorithmic approaches.</B>\n",
    "</br>\n",
    "<B>Basic NLP tasks include tokenization and parsing, lemmatization/stemming, part-of-speech tagging, language detection and identification of semantic relationships.</B></br>\n",
    "<B>In general terms, NLP tasks break down language into shorter, elemental pieces, try to understand relationships between the pieces and explore how the pieces work together to create meaning.</B>"
   ]
  },
  {
   "cell_type": "markdown",
   "metadata": {},
   "source": [
    "\n",
    "<h4 style=\"color:orangered;\"> <B> Natural Language Toolkit (NLTK) for  analyzing text </B>  </h4>"
   ]
  },
  {
   "cell_type": "markdown",
   "metadata": {},
   "source": [
    "<B>NLTK is a suite of libraries and programs for symbolic and statistical natural language processing (NLP) for English written in the Python programming language</B>"
   ]
  },
  {
   "cell_type": "markdown",
   "metadata": {},
   "source": [
    "><h4 style=\"color:green;\"><B> Install NLTK </B></h4>"
   ]
  },
  {
   "cell_type": "code",
   "execution_count": 1,
   "metadata": {},
   "outputs": [
    {
     "name": "stdout",
     "output_type": "stream",
     "text": [
      "Collecting nltk\n",
      "  Downloading nltk-3.5.zip (1.4 MB)\n",
      "Requirement already satisfied: click in c:\\users\\user\\anaconda3\\lib\\site-packages (from nltk) (7.1.2)\n",
      "Requirement already satisfied: joblib in c:\\users\\user\\anaconda3\\lib\\site-packages (from nltk) (0.16.0)\n",
      "Requirement already satisfied: regex in c:\\users\\user\\anaconda3\\lib\\site-packages (from nltk) (2020.6.8)\n",
      "Requirement already satisfied: tqdm in c:\\users\\user\\anaconda3\\lib\\site-packages (from nltk) (4.47.0)\n",
      "Building wheels for collected packages: nltk\n",
      "  Building wheel for nltk (setup.py): started\n",
      "  Building wheel for nltk (setup.py): finished with status 'done'\n",
      "  Created wheel for nltk: filename=nltk-3.5-py3-none-any.whl size=1434679 sha256=3bc961ddc00caade782f8044f76ddea6f35277e2fc0e79d914c76b880c08c97e\n",
      "  Stored in directory: c:\\users\\user\\appdata\\local\\pip\\cache\\wheels\\ff\\d5\\7b\\f1fb4e1e1603b2f01c2424dd60fbcc50c12ef918bafc44b155\n",
      "Successfully built nltk\n",
      "Installing collected packages: nltk\n",
      "Successfully installed nltk-3.5\n"
     ]
    }
   ],
   "source": [
    "!pip install nltk"
   ]
  },
  {
   "cell_type": "markdown",
   "metadata": {},
   "source": [
    "><h4 style=\"color:green;\"><B> Install Conda package for NLTK </B></h4>\n"
   ]
  },
  {
   "cell_type": "markdown",
   "metadata": {},
   "source": [
    "<img src =\"images/anacondaNLTK.PNG\" >"
   ]
  },
  {
   "cell_type": "markdown",
   "metadata": {},
   "source": [
    "><h4 style=\"color:green;\"><B>Install punkt</B></h4>\n",
    "\n"
   ]
  },
  {
   "cell_type": "markdown",
   "metadata": {},
   "source": [
    "<img src=\"images/punketinstalled.PNG\" >"
   ]
  },
  {
   "cell_type": "markdown",
   "metadata": {},
   "source": [
    "\n",
    "><h4 style=\"color:orangered;\"><B> remove stopwords </B></h4>\n"
   ]
  },
  {
   "cell_type": "markdown",
   "metadata": {},
   "source": [
    "\n",
    "<B>In every language, some words are particularly common. While their use in the language is crucial, they don’t usually convey a particular meaning, especially if taken out of context. This is the case of articles, conjunctions, some adverbs, etc. which are commonly called stop-words.</br>\n",
    "Stop-word removal is one important step that should be considered during the pre-processing stages. </br>\n",
    "NLTK provides a simple list for English stop-words. </B>"
   ]
  },
  {
   "cell_type": "markdown",
   "metadata": {},
   "source": [
    "<img src=\"images/stopwords.PNG\" >"
   ]
  },
  {
   "cell_type": "markdown",
   "metadata": {},
   "source": [
    "><h4 style=\"color:green;\"><B> Tokenization </B></h4>\n"
   ]
  },
  {
   "cell_type": "markdown",
   "metadata": {},
   "source": [
    "<B>In this step , we will split tweets text into token (words) by using NLTK’s TweetTokenizer.It can  “collapse” repeated characters - that is, lolll, lollllll, and lollllllllllll will all collapse to the same representation \"lolll\" (three “l”s). This is helpful because we tend to think that these tokens represent approximately the same thing. This feature helps curb the curse of dimensionality (i.e. too many low-frequency tokens), while maintaining Twitter-specific features.  </B>\n",
    "\n"
   ]
  },
  {
   "cell_type": "code",
   "execution_count": 13,
   "metadata": {},
   "outputs": [
    {
     "name": "stdout",
     "output_type": "stream",
     "text": [
      "{'theirs', 'has', 'not', 'what', \"mightn't\", 'can', 'don', \"aren't\", \"haven't\", \"mustn't\", 'weren', 'had', 'before', 'nor', 'all', 'couldn', 'both', 'when', 'shouldn', 'those', \"it's\", 'am', 'at', 'ain', 'if', 'been', 'aren', 'out', 'only', 'rts', 'above', 'shan', 'herself', 'any', 'which', 'or', 'until', 'hers', 'and', 've', \"hadn't\", 'does', \"wouldn't\", 'was', 'over', \"hasn't\", 'again', 'do', 'himself', 'under', 'ma', 'is', 'most', 'off', 'but', 's', 'ourselves', 'll', 'with', \"you're\", 'haven', 'such', 'down', \"won't\", \"needn't\", 'hadn', 'it', 'each', 'the', 'up', \"weren't\", 'didn', 'i', 'yourself', \"shouldn't\", 'mightn', 'their', 'whom', 'for', 'by', 'be', 'because', 'his', 'so', 'then', 'yourselves', 'where', 'him', 'he', 'during', \"should've\", 'did', 'our', 'hasn', 'doing', 'here', 'few', 'too', \"she's\", 'rt', 'needn', 'are', 'as', 'to', 'itself', 'you', 'into', \"you'd\", 'mustn', 'doesn', 'myself', 'yours', 'a', 'how', \"doesn't\", \"wasn't\", 'more', 'your', 'o', 'who', 'an', 'won', 'should', \"you'll\", \"didn't\", 'wouldn', 'against', 'once', 'wasn', 't', 'were', 'between', 'm', 'no', 're', 'about', 'while', 'just', 'its', 'have', \"don't\", 'these', 'retweet', 'from', 'very', 'that', 'on', 'd', 'some', 'themselves', 'through', 'after', 'having', 'now', 'me', 'why', 'below', \"shan't\", 'will', 'further', 'in', 'them', 'own', 'other', \"couldn't\", 'of', 'y', \"you've\", 'same', 'we', 'she', \"that'll\", 'than', 'ours', 'my', 'there', 'they', 'her', 'isn', \"isn't\", 'this', 'being'}\n"
     ]
    }
   ],
   "source": [
    "#*************************************************************************************************\n",
    "                                               #This is the stopwords\n",
    "#*************************************************************************************************\n",
    "\n",
    "import nltk\n",
    "#nltk.download()\n",
    "from nltk.tokenize import TweetTokenizer\n",
    "from nltk.corpus import stopwords\n",
    "from nltk.tokenize import word_tokenize\n",
    "from nltk.corpus import stopwords\n",
    "\n",
    "additional  = ['rt','rts','retweet']\n",
    "swords = set().union(stopwords.words('english'),additional)\n",
    "print(swords)\n",
    "\n",
    "tweets['text'] = tweets['text'].apply(lambda x: ' '.join([i for i in x.split() if  i not in (swords)]))"
   ]
  },
  {
   "cell_type": "code",
   "execution_count": 14,
   "metadata": {},
   "outputs": [
    {
     "data": {
      "text/plain": [
       "'new scathing analysis shady business thereslot questions around guy'"
      ]
     },
     "execution_count": 14,
     "metadata": {},
     "output_type": "execute_result"
    }
   ],
   "source": [
    "tweets['text'][5]"
   ]
  },
  {
   "cell_type": "code",
   "execution_count": 15,
   "metadata": {},
   "outputs": [],
   "source": [
    "#*************************************************************************************************\n",
    "                                               #This is the tokenizer\n",
    "#*************************************************************************************************\n",
    "\n",
    "\n",
    "import nltk\n",
    "# nltk.download()\n",
    "from nltk.tokenize import TweetTokenizer\n",
    "from nltk.corpus import stopwords\n",
    "tweets['tokonized_text'] = '' \n",
    "\n",
    "tokenizer = TweetTokenizer()\n",
    "tweets['tokonized_text']  =tweets['text'].apply(tokenizer.tokenize)\n",
    "\n"
   ]
  },
  {
   "cell_type": "code",
   "execution_count": 16,
   "metadata": {},
   "outputs": [
    {
     "data": {
      "text/plain": [
       "['new',\n",
       " 'scathing',\n",
       " 'analysis',\n",
       " 'shady',\n",
       " 'business',\n",
       " 'thereslot',\n",
       " 'questions',\n",
       " 'around',\n",
       " 'guy']"
      ]
     },
     "execution_count": 16,
     "metadata": {},
     "output_type": "execute_result"
    }
   ],
   "source": [
    "tweets['tokonized_text'][5]"
   ]
  },
  {
   "cell_type": "markdown",
   "metadata": {},
   "source": [
    "><h4 style=\"color:green;\"><B> Stemming </B></h4>\n"
   ]
  },
  {
   "cell_type": "markdown",
   "metadata": {},
   "source": [
    "<B>Stemming is the process of reducing inflection in words to their root forms such as mapping a group of words to the same stem even if the stem itself is not a valid word in the Language.</B>"
   ]
  },
  {
   "cell_type": "code",
   "execution_count": 18,
   "metadata": {},
   "outputs": [],
   "source": [
    "from nltk.stem import PorterStemmer\n",
    "ps = PorterStemmer()\n",
    "tweets['stemmed'] = tweets['tokonized_text'].apply(lambda x: [ps.stem(i) for i in x if i != ''])\n"
   ]
  },
  {
   "cell_type": "code",
   "execution_count": 19,
   "metadata": {},
   "outputs": [
    {
     "data": {
      "text/plain": [
       "['new',\n",
       " 'scath',\n",
       " 'analysi',\n",
       " 'shadi',\n",
       " 'busi',\n",
       " 'thereslot',\n",
       " 'question',\n",
       " 'around',\n",
       " 'guy']"
      ]
     },
     "execution_count": 19,
     "metadata": {},
     "output_type": "execute_result"
    }
   ],
   "source": [
    "tweets['stemmed'][5]"
   ]
  },
  {
   "cell_type": "markdown",
   "metadata": {},
   "source": [
    "><h4 style=\"color:green;\"><B> Lemmatization  </B></h4>\n"
   ]
  },
  {
   "cell_type": "code",
   "execution_count": 20,
   "metadata": {},
   "outputs": [],
   "source": [
    "from nltk.stem.wordnet import WordNetLemmatizer\n",
    "# nltk.download('wordnet') #download wordnet package with code \n",
    "lmtzr = WordNetLemmatizer()\n",
    "tweets['lemma'] = tweets['stemmed'].apply(lambda x: [lmtzr.lemmatize(word,'v') for word in x if word!= ''])\n"
   ]
  },
  {
   "cell_type": "code",
   "execution_count": 21,
   "metadata": {},
   "outputs": [
    {
     "data": {
      "text/plain": [
       "['new',\n",
       " 'scath',\n",
       " 'analysi',\n",
       " 'shadi',\n",
       " 'busi',\n",
       " 'thereslot',\n",
       " 'question',\n",
       " 'around',\n",
       " 'guy']"
      ]
     },
     "execution_count": 21,
     "metadata": {},
     "output_type": "execute_result"
    }
   ],
   "source": [
    "tweets['lemma'][5]"
   ]
  },
  {
   "cell_type": "markdown",
   "metadata": {},
   "source": [
    "<h3 style=\"color:blue;\"> <B> STEP4 : Modeling </B>  </h3>\n"
   ]
  },
  {
   "cell_type": "markdown",
   "metadata": {},
   "source": [
    "><h4 style=\"color:green;\"><B> K-means </B></h4>\n"
   ]
  },
  {
   "cell_type": "markdown",
   "metadata": {},
   "source": [
    "<B>Now as a Ml Algorithm for clustering we will use K-means with cosine as a distance metric </B>\n",
    "\n",
    "<B>By this example we will understand How does K-means work </B>\n",
    "\n",
    "<img src=\"images/k-means.png\">\n",
    "<h5 style=\"color:tomato;\"><B> Step1</B></h5>\n",
    "Here we are having a few data points, which we want to cluster. So we would start by picking the number of clusters we want to have.</br>\n",
    "\n",
    "<h5 style=\"color:tomato;\"><B> Step2</B></h5>\n",
    "We have successfully marked the centers of these clusters. Now we will be marking all the points with respective colors on the basis of the distance they have from the centroid.</br>\n",
    "\n",
    "<h5 style=\"color:tomato;\"><B> Step3</B></h5>\n",
    "After marking all the data points, we will now be computing the centroid of this cluster again. We are doing it because initially, we had picked the centroid randomly. Then to remove error, if any, we are doing it.\n",
    "\n",
    "The centroid of the cluster is computed by finding a point within the cluster that would be equidistant from all the data points.</br>\n",
    "\n",
    "<h5 style=\"color:tomato;\"><B> Step4</B></h5>\n",
    "\n",
    "Now since we have computed the centroid again and we know it is not the same as it was before so we would iterate the process again and would find the points nearest to this centroid for each cluster.</br>\n",
    "\n",
    "<h5 style=\"color:tomato;\"><B> Step5</B></h5>\n",
    "Now we have got the result again. One may ask when shall we stop the iteration of this finding the centroid and then placing the data points accordingly? Well, you have to do it till the time when the position of the centroids doesn’t change.</br>\n",
    "\n",
    "<h5 style=\"color:tomato;\"><B> Step6</B></h5>\n",
    "We marked the two clusters.\n",
    "\n",
    "In this case, it was easy, so we were able to get the results in 2 iterations only.\n",
    "\n",
    "We had also talked about the random initialization that we are putting ourselves into. With this a problem we have is that it can land us up with some really bad clusters which won’t be of any use. "
   ]
  },
  {
   "cell_type": "markdown",
   "metadata": {},
   "source": [
    "><h4 style=\"color:green;\"><B> K-means Mertrics</B></h4>\n"
   ]
  },
  {
   "cell_type": "markdown",
   "metadata": {},
   "source": [
    "<B> K-means have 3 distance metrics </B>\n",
    "    <li><B>Euclidean Distance</B></li>\n",
    "    <li><B>Cosine Distance</B></li>\n",
    "    <li><B>Jaccard Similarity</B></li>"
   ]
  },
  {
   "cell_type": "markdown",
   "metadata": {},
   "source": [
    "<img src=\"images/metricc.gif\">"
   ]
  },
  {
   "cell_type": "code",
   "execution_count": 22,
   "metadata": {},
   "outputs": [],
   "source": [
    "from sklearn.feature_extraction.text import TfidfVectorizer\n",
    "from sklearn.feature_extraction.text import CountVectorizer\n",
    "from sklearn.feature_extraction import text\n",
    "from nltk.cluster.kmeans import KMeansClusterer\n",
    "from sklearn.metrics.pairwise import cosine_similarity\n",
    "from sklearn.decomposition import TruncatedSVD\n",
    "from collections import Counter\n",
    "import matplotlib.pyplot as plt\n",
    "from datetime import datetime\n",
    "import nltk\n",
    "import pandas as pd\n",
    "import numpy as np\n",
    "import random\n",
    "from sklearn.decomposition import PCA      "
   ]
  },
  {
   "cell_type": "markdown",
   "metadata": {},
   "source": [
    "><h4 style=\"color:green;\"><B> Vectorization</B></h4>\n"
   ]
  },
  {
   "cell_type": "markdown",
   "metadata": {},
   "source": [
    "<B>TFIDF is another way to convert textual data to numeric form, and is short for Term Frequency-Inverse Document Frequency. The vector value it yields is the product of these two terms; TF and IDF.\n",
    "Let’s first look at Term Frequency. We have already looked at term frequency with count vectorizer, but this time, we need one more step to calculate the relative frequency. Let’s say we have two documents in our corpus as below.</B>"
   ]
  },
  {
   "cell_type": "code",
   "execution_count": 23,
   "metadata": {},
   "outputs": [
    {
     "name": "stdout",
     "output_type": "stream",
     "text": [
      "orig shape: (13937, 33694)\n",
      "new shape: (13937, 50)\n"
     ]
    }
   ],
   "source": [
    "RUNTIME_MODE = \"Cosine\"\n",
    "SAMPLE_COUNT = 14000\n",
    "MAX_CLUSTER = 25\n",
    "random.seed(1)\n",
    "\n",
    "content = tweets['text'].values # Get the news content to news array\n",
    "\n",
    "stop_words = set(text.ENGLISH_STOP_WORDS)\n",
    "my_stop_words = text.ENGLISH_STOP_WORDS.union([\n",
    " \"also\", \"said\", \"mr\", \"mrs\", \"im\", \"would\", \"could\", \"should\", \"first\", \"like\", \"dont\",\n",
    " \"wont\", \"get\", \"going\", \"ms\", \"one\", \"____\", \"_____\", \"new\", \"news\", \"told\", \"way\",\n",
    " \"year\", \"years\", \"don\", \"day\", \"man\", \"did\", \"just\", \"time\", \"times\", \"make\", \"000\",\n",
    " \"united\", \"state\", \"states\", \"people\", \"ve\", \"white\", \"house\", \"president\",\n",
    " \"government\", \"york\", \"want\", \"know\", \"think\", \"officials\", \"say\", \"breitbart\",\n",
    " \"percent\", \"home\", \"city\", \"case\", \"really\", \"work\", \"according\", \"including\",\n",
    " \"good\", \"campaign\", \"country\", \"long\", \"world\", \"donald\", \"trump\", \"didn\", \"women\",\n",
    " \"called\", \"american\", \"men\", \"later\", \"follow\", \"week\", \"black\", \"little\", \"company\",\n",
    " \"companies\", \"posted\", \"morning\", \"today\", \"evening\", \"com\", \"nytimes\", \"weekend\", \"10\",\"business\"\n",
    "]\n",
    ")\n",
    "vectorizer = CountVectorizer(stop_words=my_stop_words, binary=False)\n",
    "X_orig = vectorizer.fit_transform(content[0:SAMPLE_COUNT]).toarray()\n",
    "svd = TruncatedSVD(n_components=50, random_state = 0)\n",
    "X = svd.fit_transform(X_orig)\n",
    "print(\"orig shape:\", X_orig.shape)\n",
    "print(\"new shape:\", X.shape)"
   ]
  },
  {
   "cell_type": "markdown",
   "metadata": {},
   "source": [
    "><h4 style=\"color:green;\"><B> K-means Clustering</B></h4>\n"
   ]
  },
  {
   "cell_type": "code",
   "execution_count": null,
   "metadata": {},
   "outputs": [
    {
     "name": "stderr",
     "output_type": "stream",
     "text": [
      "C:\\Users\\User\\anaconda3\\lib\\site-packages\\nltk\\cluster\\util.py:131: RuntimeWarning: invalid value encountered in double_scalars\n",
      "  return 1 - (numpy.dot(u, v) / (sqrt(numpy.dot(u, u)) * sqrt(numpy.dot(v, v))))\n"
     ]
    },
    {
     "name": "stdout",
     "output_type": "stream",
     "text": [
      "Item count in clusters:\n",
      "Counter({1: 7707, 0: 6230})\n",
      "Item count in clusters:\n",
      "Counter({1: 7473, 0: 3365, 2: 3099})\n"
     ]
    }
   ],
   "source": [
    "terms = vectorizer.get_feature_names() # Get the array of terms that exists in documents\n",
    "inner_dist = np.zeros(shape=[MAX_CLUSTER - 1])\n",
    "for NUM_CLUSTERS in range(2, MAX_CLUSTER + 1):\n",
    "    kmeans = KMeansClusterer(num_means=NUM_CLUSTERS,\n",
    "    distance=nltk.cluster.util.cosine_distance, repeats=25, avoid_empty_clusters=True)\n",
    "#initial_means=means)\n",
    "    labels = kmeans.cluster(X, assign_clusters=True)\n",
    "    cluster_centers = np.asarray(kmeans.means())\n",
    "    print(\"Item count in clusters:\")\n",
    "    print(Counter(labels))\n",
    "    cluster_means = np.zeros(shape=[NUM_CLUSTERS, len(terms)])\n",
    "    item_counts = np.zeros(shape=[NUM_CLUSTERS])"
   ]
  },
  {
   "cell_type": "code",
   "execution_count": 24,
   "metadata": {},
   "outputs": [
    {
     "name": "stderr",
     "output_type": "stream",
     "text": [
      "C:\\Users\\User\\anaconda3\\lib\\site-packages\\nltk\\cluster\\util.py:131: RuntimeWarning: invalid value encountered in double_scalars\n",
      "  return 1 - (numpy.dot(u, v) / (sqrt(numpy.dot(u, u)) * sqrt(numpy.dot(v, v))))\n"
     ]
    },
    {
     "name": "stdout",
     "output_type": "stream",
     "text": [
      "Item count in clusters:\n",
      "Counter({0: 10802, 1: 3135})\n"
     ]
    }
   ],
   "source": [
    "terms = vectorizer.get_feature_names() # Get the array of terms that exists in documents\n",
    "NUM_CLUSTERS = 2\n",
    "inner_dist = np.zeros(shape=[MAX_CLUSTER - 1])\n",
    "kmeans = KMeansClusterer(num_means=NUM_CLUSTERS,distance=nltk.cluster.util.cosine_distance, repeats=25, avoid_empty_clusters=True)\n",
    "#initial_means=means)\n",
    "labels = kmeans.cluster(X, assign_clusters=True)\n",
    "cluster_centers = np.asarray(kmeans.means())\n",
    "print(\"Item count in clusters:\")\n",
    "print(Counter(labels))\n",
    "cluster_means = np.zeros(shape=[NUM_CLUSTERS, len(terms)])\n",
    "item_counts = np.zeros(shape=[NUM_CLUSTERS])"
   ]
  },
  {
   "cell_type": "code",
   "execution_count": 35,
   "metadata": {},
   "outputs": [
    {
     "name": "stderr",
     "output_type": "stream",
     "text": [
      "C:\\Users\\User\\anaconda3\\lib\\site-packages\\nltk\\cluster\\util.py:131: RuntimeWarning: invalid value encountered in double_scalars\n",
      "  return 1 - (numpy.dot(u, v) / (sqrt(numpy.dot(u, u)) * sqrt(numpy.dot(v, v))))\n"
     ]
    },
    {
     "name": "stdout",
     "output_type": "stream",
     "text": [
      "Item count in clusters:\n",
      "Counter({0: 7658, 3: 3000, 1: 2189, 2: 1090})\n"
     ]
    }
   ],
   "source": [
    "terms = vectorizer.get_feature_names() # Get the array of terms that exists in documents\n",
    "NUM_CLUSTERS = 4\n",
    "inner_dist = np.zeros(shape=[MAX_CLUSTER - 1])\n",
    "kmeans = KMeansClusterer(num_means=NUM_CLUSTERS,distance=nltk.cluster.util.cosine_distance, repeats=25, avoid_empty_clusters=True)\n",
    "#initial_means=means)\n",
    "labels = kmeans.cluster(X, assign_clusters=True)\n",
    "cluster_centers = np.asarray(kmeans.means())\n",
    "print(\"Item count in clusters:\")\n",
    "print(Counter(labels))\n",
    "cluster_means = np.zeros(shape=[NUM_CLUSTERS, len(terms)])\n",
    "item_counts = np.zeros(shape=[NUM_CLUSTERS])"
   ]
  },
  {
   "cell_type": "code",
   "execution_count": null,
   "metadata": {},
   "outputs": [],
   "source": [
    "terms = vectorizer.get_feature_names() # Get the array of terms that exists in documents\n",
    "NUM_CLUSTERS = 6\n",
    "inner_dist = np.zeros(shape=[MAX_CLUSTER - 1])\n",
    "kmeans = KMeansClusterer(num_means=NUM_CLUSTERS,distance=nltk.cluster.util.cosine_distance, repeats=25, avoid_empty_clusters=True)\n",
    "#initial_means=means)\n",
    "labels = kmeans.cluster(X, assign_clusters=True)\n",
    "cluster_centers = np.asarray(kmeans.means())\n",
    "print(\"Item count in clusters:\")\n",
    "print(Counter(labels))\n",
    "cluster_means = np.zeros(shape=[NUM_CLUSTERS, len(terms)])\n",
    "item_counts = np.zeros(shape=[NUM_CLUSTERS])"
   ]
  },
  {
   "cell_type": "code",
   "execution_count": null,
   "metadata": {},
   "outputs": [],
   "source": [
    "terms = vectorizer.get_feature_names() # Get the array of terms that exists in documents\n",
    "NUM_CLUSTERS = 10\n",
    "inner_dist = np.zeros(shape=[MAX_CLUSTER - 1])\n",
    "kmeans = KMeansClusterer(num_means=NUM_CLUSTERS,distance=nltk.cluster.util.cosine_distance, repeats=25, avoid_empty_clusters=True)\n",
    "#initial_means=means)\n",
    "labels = kmeans.cluster(X, assign_clusters=True)\n",
    "cluster_centers = np.asarray(kmeans.means())\n",
    "print(\"Item count in clusters:\")\n",
    "print(Counter(labels))\n",
    "cluster_means = np.zeros(shape=[NUM_CLUSTERS, len(terms)])\n",
    "item_counts = np.zeros(shape=[NUM_CLUSTERS])"
   ]
  },
  {
   "cell_type": "markdown",
   "metadata": {},
   "source": [
    "><h4 style=\"color:green;\"><B> Top words per Cluster</B></h4>\n"
   ]
  },
  {
   "cell_type": "code",
   "execution_count": 25,
   "metadata": {},
   "outputs": [
    {
     "name": "stdout",
     "output_type": "stream",
     "text": [
      "Top terms per cluster:\n",
      "Cluster 0 : sport  , \n",
      "small  , \n",
      "covid19  , \n",
      "need  , \n",
      "mind  , \n",
      "help  , \n",
      "Cluster 1 : health  , \n",
      "mental  , \n",
      "care  , \n",
      "public  , \n",
      "covid19  , \n",
      "team  , \n"
     ]
    }
   ],
   "source": [
    "SAMPLE_COUNT = 13500\n",
    "NUM_CLUSTERS = 2 \n",
    "\n",
    "for ind in range(SAMPLE_COUNT):\n",
    "    cluster_means[labels[ind]] = cluster_means[labels[ind]] + X_orig[ind]\n",
    "    item_counts[labels[ind]] = item_counts[labels[ind]] + 1\n",
    "for ind in range(NUM_CLUSTERS):\n",
    "    cluster_means[ind] = cluster_means[ind] / item_counts[ind]\n",
    "print(\"Top terms per cluster:\")\n",
    "order_centroids = cluster_means.argsort()[:, ::-1]\n",
    "\n",
    "for cls in range(NUM_CLUSTERS):\n",
    "    print(\"Cluster\", cls, ': ', end=''),\n",
    "    for ind in order_centroids[cls, :6]:\n",
    "        print(terms[ind], ' , ', end='')\n",
    "        print()\n"
   ]
  },
  {
   "cell_type": "code",
   "execution_count": 36,
   "metadata": {},
   "outputs": [
    {
     "name": "stdout",
     "output_type": "stream",
     "text": [
      "Top terms per cluster:\n",
      "Cluster 0 : covid19  , \n",
      "Cluster 1 : small  , \n",
      "Cluster 2 : sport  , \n",
      "Cluster 3 : health  , \n"
     ]
    }
   ],
   "source": [
    "SAMPLE_COUNT = 13500\n",
    "NUM_CLUSTERS = 4\n",
    "\n",
    "for ind in range(SAMPLE_COUNT):\n",
    "    cluster_means[labels[ind]] = cluster_means[labels[ind]] + X_orig[ind]\n",
    "    item_counts[labels[ind]] = item_counts[labels[ind]] + 1\n",
    "for ind in range(NUM_CLUSTERS):\n",
    "    cluster_means[ind] = cluster_means[ind] / item_counts[ind]\n",
    "print(\"Top terms per cluster:\")\n",
    "order_centroids = cluster_means.argsort()[:, ::-1]\n",
    "\n",
    "for cls in range(NUM_CLUSTERS):\n",
    "    print(\"Cluster\", cls, ': ', end=''),\n",
    "    for ind in order_centroids[cls, :1]:\n",
    "        print(terms[ind], ' , ', end='')\n",
    "        print()\n"
   ]
  },
  {
   "cell_type": "code",
   "execution_count": null,
   "metadata": {},
   "outputs": [],
   "source": []
  },
  {
   "cell_type": "markdown",
   "metadata": {},
   "source": [
    "\n",
    "><h4 style=\"color:green;\"><B> PCA</B></h4>"
   ]
  },
  {
   "cell_type": "code",
   "execution_count": 28,
   "metadata": {},
   "outputs": [
    {
     "data": {
      "text/plain": [
       "(13937, 2)"
      ]
     },
     "execution_count": 28,
     "metadata": {},
     "output_type": "execute_result"
    }
   ],
   "source": [
    "dist = 1 - cosine_similarity(X)\n",
    "\n",
    "pca = PCA(2)\n",
    "pca.fit(dist)\n",
    "X_PCA = pca.transform(dist)\n",
    "X_PCA.shape"
   ]
  },
  {
   "cell_type": "markdown",
   "metadata": {},
   "source": [
    "><h4 style=\"color:green;\"><B>Display Clusters  \n",
    "</B></h4>"
   ]
  },
  {
   "cell_type": "code",
   "execution_count": 37,
   "metadata": {},
   "outputs": [
    {
     "data": {
      "image/png": "[encoded data removed]",
      "text/plain": [
       "<Figure size 1440x936 with 1 Axes>"
      ]
     },
     "metadata": {
      "needs_background": "light"
     },
     "output_type": "display_data"
    }
   ],
   "source": [
    "x, y = X_PCA[:, 0], X_PCA[:, 1]\n",
    "\n",
    "colors = {0: 'red',\n",
    "          1: 'blue',\n",
    "          2: 'yellow',\n",
    "          3:'green'\n",
    "         }\n",
    "\n",
    "names = { \n",
    "           0 :' covid19'  , \n",
    "           1 : 'small ' , \n",
    "            2 : 'sport ' , \n",
    "            3 : 'health ' \n",
    "         }\n",
    "  \n",
    "df = pd.DataFrame({'x': x, 'y':y, 'label':labels}) \n",
    "groups = df.groupby('label')\n",
    "\n",
    "fig, ax = plt.subplots(figsize=(20, 13)) \n",
    "\n",
    "for name, group in groups:\n",
    "    ax.plot(group.x, group.y, marker='o', linestyle='', ms=5,\n",
    "            color=colors[name],label=names[name], mec='none')\n",
    "    ax.set_aspect('auto')\n",
    "    ax.tick_params(axis='x',which='both',bottom='off',top='off',labelbottom='off')\n",
    "    ax.tick_params(axis= 'y',which='both',left='off',top='off',labelleft='off')\n",
    "    \n",
    "ax.legend()\n",
    "ax.set_title(\"Topics of streamed tweets\")\n",
    "plt.show()"
   ]
  },
  {
   "cell_type": "markdown",
   "metadata": {},
   "source": [
    "><h4 style=\"color:green;\"><B>Démo\n",
    "</B></h4>"
   ]
  },
  {
   "cell_type": "markdown",
   "metadata": {},
   "source": [
    "<img src=\"images/démo.gif\">"
   ]
  },
  {
   "cell_type": "markdown",
   "metadata": {},
   "source": [
    "<h3 style=\"color:blue;\"> <B>Conclusion</B>\n",
    " </B> </h3>"
   ]
  },
  {
   "cell_type": "markdown",
   "metadata": {},
   "source": [
    "<B>In the present project ,K-Means algorithm has been executed by</B>\n",
    "\n",
    "<li><B>data representation method :TF-IDF</B></li>\n",
    "<li><B>Distance metrics : Cosine Similarity</B></li>\n",
    "<li><B>k =6 values (2 to 6 clusters)</B></li>"
   ]
  },
  {
   "cell_type": "markdown",
   "metadata": {},
   "source": [
    "<B> References </B>\n",
    "\n",
    "https://www.datacamp.com/community/tutorials/stemming-lemmatization-python</br>\n",
    "https://datascienceplus.com/twitter-analysis-with-python/</br>\n",
    "https://berkeley-stat159-f17.github.io/stat159-f17/lectures/11-strings/11-nltk..html</br>\n",
    "https://www.xspdf.com/resolution/52940753.html</br>\n",
    "https://medium.com/analytics-vidhya/exploring-twitter-data-using-python-af1287ee65f1</br>\n",
    "https://towardsdatascience.com/kmeans-clustering-for-classification-74b992405d0a\n",
    "https://www.xspdf.com/resolution/55501459.html"
   ]
  },
  {
   "cell_type": "markdown",
   "metadata": {},
   "source": [
    "<B>For requirements.txt</B>"
   ]
  },
  {
   "cell_type": "code",
   "execution_count": 2,
   "metadata": {},
   "outputs": [
    {
     "name": "stdout",
     "output_type": "stream",
     "text": [
      "Collecting watermark\n",
      "  Downloading watermark-2.1.0-py2.py3-none-any.whl (5.7 kB)\n",
      "Requirement already satisfied: ipython in c:\\users\\user\\anaconda3\\lib\\site-packages (from watermark) (7.16.1)\n",
      "Requirement already satisfied: colorama; sys_platform == \"win32\" in c:\\users\\user\\anaconda3\\lib\\site-packages (from ipython->watermark) (0.4.3)\n",
      "Requirement already satisfied: backcall in c:\\users\\user\\anaconda3\\lib\\site-packages (from ipython->watermark) (0.2.0)\n",
      "Requirement already satisfied: prompt-toolkit!=3.0.0,!=3.0.1,<3.1.0,>=2.0.0 in c:\\users\\user\\anaconda3\\lib\\site-packages (from ipython->watermark) (3.0.5)\n",
      "Requirement already satisfied: decorator in c:\\users\\user\\anaconda3\\lib\\site-packages (from ipython->watermark) (4.4.2)\n",
      "Requirement already satisfied: jedi>=0.10 in c:\\users\\user\\anaconda3\\lib\\site-packages (from ipython->watermark) (0.17.1)\n",
      "Requirement already satisfied: pygments in c:\\users\\user\\anaconda3\\lib\\site-packages (from ipython->watermark) (2.6.1)\n",
      "Requirement already satisfied: traitlets>=4.2 in c:\\users\\user\\anaconda3\\lib\\site-packages (from ipython->watermark) (4.3.3)\n",
      "Requirement already satisfied: pickleshare in c:\\users\\user\\anaconda3\\lib\\site-packages (from ipython->watermark) (0.7.5)\n",
      "Requirement already satisfied: setuptools>=18.5 in c:\\users\\user\\anaconda3\\lib\\site-packages (from ipython->watermark) (49.2.0.post20200714)\n",
      "Requirement already satisfied: wcwidth in c:\\users\\user\\anaconda3\\lib\\site-packages (from prompt-toolkit!=3.0.0,!=3.0.1,<3.1.0,>=2.0.0->ipython->watermark) (0.2.5)\n",
      "Requirement already satisfied: parso<0.8.0,>=0.7.0 in c:\\users\\user\\anaconda3\\lib\\site-packages (from jedi>=0.10->ipython->watermark) (0.7.0)\n",
      "Requirement already satisfied: six in c:\\users\\user\\anaconda3\\lib\\site-packages (from traitlets>=4.2->ipython->watermark) (1.15.0)\n",
      "Requirement already satisfied: ipython-genutils in c:\\users\\user\\anaconda3\\lib\\site-packages (from traitlets>=4.2->ipython->watermark) (0.2.0)\n",
      "Installing collected packages: watermark\n",
      "Successfully installed watermark-2.1.0\n",
      "Note: you may need to restart the kernel to use updated packages.\n"
     ]
    }
   ],
   "source": [
    "pip install watermark\n"
   ]
  },
  {
   "cell_type": "code",
   "execution_count": 40,
   "metadata": {},
   "outputs": [],
   "source": [
    "%load_ext watermark\n"
   ]
  },
  {
   "cell_type": "code",
   "execution_count": 10,
   "metadata": {},
   "outputs": [
    {
     "data": {
      "text/plain": [
       "\u001b[1;31mDocstring:\u001b[0m\n",
       "::\n",
       "\n",
       "  %watermark [-a AUTHOR] [-d] [-n] [-t] [-i] [-z] [-u] [-c CUSTOM_TIME] [-v] [-p PACKAGES] [-h] [-m] [-g] [-r]\n",
       "                 [-b] [-w] [-iv]\n",
       "\n",
       "IPython magic function to print date/time stamps\n",
       "and various system information.\n",
       "\n",
       "optional arguments:\n",
       "  -a AUTHOR, --author AUTHOR\n",
       "                        prints author name\n",
       "  -d, --date            prints current date as YYYY-mm-dd\n",
       "  -n, --datename        prints date with abbrv. day and month names\n",
       "  -t, --time            prints current time as HH-MM-SS\n",
       "  -i, --iso8601         prints the combined date and time including the time zone in the ISO 8601 standard with UTC\n",
       "                        offset\n",
       "  -z, --timezone        appends the local time zone\n",
       "  -u, --updated         appends a string \"Last updated: \"\n",
       "  -c CUSTOM_TIME, --custom_time CUSTOM_TIME\n",
       "                        prints a valid strftime() string\n",
       "  -v, --python          prints Python and IPython version\n",
       "  -p PACKAGES, --packages PACKAGES\n",
       "                        prints versions of specified Python modules and packages\n",
       "  -h, --hostname        prints the host name\n",
       "  -m, --machine         prints system and machine info\n",
       "  -g, --githash         prints current Git commit hash\n",
       "  -r, --gitrepo         prints current Git remote address\n",
       "  -b, --gitbranch       prints current Git branch\n",
       "  -w, --watermark       prints the current version of watermark\n",
       "  -iv, --iversions      prints the name/version of all imported modules\n",
       "\u001b[1;31mFile:\u001b[0m      c:\\users\\user\\anaconda3\\lib\\site-packages\\watermark\\watermark.py\n"
      ]
     },
     "metadata": {},
     "output_type": "display_data"
    }
   ],
   "source": [
    "%watermark?\n",
    "\n"
   ]
  },
  {
   "cell_type": "code",
   "execution_count": 41,
   "metadata": {},
   "outputs": [
    {
     "name": "stdout",
     "output_type": "stream",
     "text": [
      "numpy     : 1.18.5\n",
      "matplotlib: 3.2.2\n",
      "pandas    : 1.0.5\n",
      "regex     : 2020.6.8\n",
      "nltk      : 3.5\n",
      "sklearn   : 0.22\n",
      "seaborn   : 0.10.1\n",
      "tweepy    : 3.9.0\n",
      "\n"
     ]
    }
   ],
   "source": [
    "%watermark --iversions"
   ]
  }
 ],
 "metadata": {
  "kernelspec": {
   "display_name": "Python 3",
   "language": "python",
   "name": "python3"
  },
  "language_info": {
   "codemirror_mode": {
    "name": "ipython",
    "version": 3
   },
   "file_extension": ".py",
   "mimetype": "text/x-python",
   "name": "python",
   "nbconvert_exporter": "python",
   "pygments_lexer": "ipython3",
   "version": "3.8.3"
  }
 },
 "nbformat": 4,
 "nbformat_minor": 4
}
